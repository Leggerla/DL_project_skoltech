{
 "cells": [
  {
   "cell_type": "markdown",
   "metadata": {
    "colab_type": "text",
    "id": "7qn8B7szM0I0"
   },
   "source": [
    "# Just info about your GPU and it's memory"
   ]
  },
  {
   "cell_type": "code",
   "execution_count": 0,
   "metadata": {
    "colab": {
     "base_uri": "https://localhost:8080/",
     "height": 255
    },
    "colab_type": "code",
    "id": "Ms1tmZcz41iO",
    "outputId": "516a0872-e559-47d6-8c2d-02fc8db2d8aa"
   },
   "outputs": [
    {
     "name": "stdout",
     "output_type": "stream",
     "text": [
      "Collecting gputil\n",
      "  Downloading https://files.pythonhosted.org/packages/ed/0e/5c61eedde9f6c87713e89d794f01e378cfd9565847d4576fa627d758c554/GPUtil-1.4.0.tar.gz\n",
      "Building wheels for collected packages: gputil\n",
      "  Building wheel for gputil (setup.py) ... \u001b[?25l\u001b[?25hdone\n",
      "  Created wheel for gputil: filename=GPUtil-1.4.0-cp36-none-any.whl size=7413 sha256=8e7e008dce6cb3757b453383fd41999bb18554f847272059e728c325e5406e76\n",
      "  Stored in directory: /root/.cache/pip/wheels/3d/77/07/80562de4bb0786e5ea186911a2c831fdd0018bda69beab71fd\n",
      "Successfully built gputil\n",
      "Installing collected packages: gputil\n",
      "Successfully installed gputil-1.4.0\n",
      "Requirement already satisfied: psutil in /usr/local/lib/python3.6/dist-packages (5.4.8)\n",
      "Requirement already satisfied: humanize in /usr/local/lib/python3.6/dist-packages (0.5.1)\n",
      "Gen RAM Free: 12.7 GB  | Proc size: 159.8 MB\n",
      "GPU RAM Free: 15079MB | Used: 0MB | Util   0% | Total 15079MB\n"
     ]
    }
   ],
   "source": [
    "# memory footprint support libraries/code\n",
    "!ln -sf /opt/bin/nvidia-smi /usr/bin/nvidia-smi\n",
    "!pip install gputil\n",
    "!pip install psutil\n",
    "!pip install humanize\n",
    "import psutil\n",
    "import humanize\n",
    "import os\n",
    "import GPUtil as GPU\n",
    "GPUs = GPU.getGPUs()\n",
    "# XXX: only one GPU on Colab and isn’t guara|nteed\n",
    "gpu = GPUs[0]\n",
    "def printm():\n",
    " process = psutil.Process(os.getpid())\n",
    " print(\"Gen RAM Free: \" + humanize.naturalsize( psutil.virtual_memory().available ), \" | Proc size: \" + humanize.naturalsize( process.memory_info().rss))\n",
    " print(\"GPU RAM Free: {0:.0f}MB | Used: {1:.0f}MB | Util {2:3.0f}% | Total {3:.0f}MB\".format(gpu.memoryFree, gpu.memoryUsed, gpu.memoryUtil*100, gpu.memoryTotal))\n",
    "printm() "
   ]
  },
  {
   "cell_type": "markdown",
   "metadata": {
    "colab_type": "text",
    "id": "N4QMIWS547iw"
   },
   "source": [
    "# Load from our github"
   ]
  },
  {
   "cell_type": "code",
   "execution_count": 0,
   "metadata": {
    "colab": {
     "base_uri": "https://localhost:8080/",
     "height": 134
    },
    "colab_type": "code",
    "id": "kC1kxjE9ybjl",
    "outputId": "4d72f13e-a7c9-4422-f203-ad7453252d11"
   },
   "outputs": [
    {
     "name": "stdout",
     "output_type": "stream",
     "text": [
      "Cloning into 'DL_project_skoltech'...\n",
      "remote: Enumerating objects: 29, done.\u001b[K\n",
      "remote: Counting objects:   3% (1/29)\u001b[K\r",
      "remote: Counting objects:   6% (2/29)\u001b[K\r",
      "remote: Counting objects:  10% (3/29)\u001b[K\r",
      "remote: Counting objects:  13% (4/29)\u001b[K\r",
      "remote: Counting objects:  17% (5/29)\u001b[K\r",
      "remote: Counting objects:  20% (6/29)\u001b[K\r",
      "remote: Counting objects:  24% (7/29)\u001b[K\r",
      "remote: Counting objects:  27% (8/29)\u001b[K\r",
      "remote: Counting objects:  31% (9/29)\u001b[K\r",
      "remote: Counting objects:  34% (10/29)\u001b[K\r",
      "remote: Counting objects:  37% (11/29)\u001b[K\r",
      "remote: Counting objects:  41% (12/29)\u001b[K\r",
      "remote: Counting objects:  44% (13/29)\u001b[K\r",
      "remote: Counting objects:  48% (14/29)\u001b[K\r",
      "remote: Counting objects:  51% (15/29)\u001b[K\r",
      "remote: Counting objects:  55% (16/29)\u001b[K\r",
      "remote: Counting objects:  58% (17/29)\u001b[K\r",
      "remote: Counting objects:  62% (18/29)\u001b[K\r",
      "remote: Counting objects:  65% (19/29)\u001b[K\r",
      "remote: Counting objects:  68% (20/29)\u001b[K\r",
      "remote: Counting objects:  72% (21/29)\u001b[K\r",
      "remote: Counting objects:  75% (22/29)\u001b[K\r",
      "remote: Counting objects:  79% (23/29)\u001b[K\r",
      "remote: Counting objects:  82% (24/29)\u001b[K\r",
      "remote: Counting objects:  86% (25/29)\u001b[K\r",
      "remote: Counting objects:  89% (26/29)\u001b[K\r",
      "remote: Counting objects:  93% (27/29)\u001b[K\r",
      "remote: Counting objects:  96% (28/29)\u001b[K\r",
      "remote: Counting objects: 100% (29/29)\u001b[K\r",
      "remote: Counting objects: 100% (29/29), done.\u001b[K\n",
      "remote: Compressing objects: 100% (22/22), done.\u001b[K\n",
      "remote: Total 384 (delta 15), reused 19 (delta 7), pack-reused 355\u001b[K\n",
      "Receiving objects: 100% (384/384), 87.96 KiB | 1000.00 KiB/s, done.\n",
      "Resolving deltas: 100% (228/228), done.\n"
     ]
    }
   ],
   "source": [
    "!git clone https://github.com/Vitaly-Protasov/DL_project_skoltech"
   ]
  },
  {
   "cell_type": "code",
   "execution_count": 0,
   "metadata": {
    "colab": {
     "base_uri": "https://localhost:8080/",
     "height": 34
    },
    "colab_type": "code",
    "id": "EhzZ1XIiofJ7",
    "outputId": "f571be6c-57ae-40ae-c0e7-2efc213f8afc"
   },
   "outputs": [
    {
     "name": "stdout",
     "output_type": "stream",
     "text": [
      "/content/DL_project_skoltech\n"
     ]
    }
   ],
   "source": [
    "cd DL_project_skoltech/"
   ]
  },
  {
   "cell_type": "markdown",
   "metadata": {
    "colab_type": "text",
    "id": "Djjc-tjuMhhu"
   },
   "source": [
    "# Download data script"
   ]
  },
  {
   "cell_type": "code",
   "execution_count": 0,
   "metadata": {
    "colab": {
     "base_uri": "https://localhost:8080/",
     "height": 286
    },
    "colab_type": "code",
    "id": "Lp4neYWhMUHQ",
    "outputId": "c9792bf1-2c81-4d12-d1f1-e330ff5e243d"
   },
   "outputs": [
    {
     "name": "stdout",
     "output_type": "stream",
     "text": [
      "--2020-06-04 00:25:26--  https://s3.amazonaws.com/code2vec/data/java-small_data.tar.gz\n",
      "Resolving s3.amazonaws.com (s3.amazonaws.com)... 52.216.185.181\n",
      "Connecting to s3.amazonaws.com (s3.amazonaws.com)|52.216.185.181|:443... connected.\n",
      "HTTP request sent, awaiting response... 200 OK\n",
      "Length: 382731969 (365M) [application/x-tar]\n",
      "Saving to: ‘java-small_data.tar.gz’\n",
      "\n",
      "java-small_data.tar 100%[===================>] 365.00M  32.0MB/s    in 12s     \n",
      "\n",
      "2020-06-04 00:25:39 (30.1 MB/s) - ‘java-small_data.tar.gz’ saved [382731969/382731969]\n",
      "\n",
      "java-small/\n",
      "java-small/java-small.dict.c2v\n",
      "java-small/java-small.train.c2v\n",
      "java-small/java-small.val.c2v\n",
      "java-small/java-small.test.c2v\n"
     ]
    }
   ],
   "source": [
    "!bash download_data.sh"
   ]
  },
  {
   "cell_type": "markdown",
   "metadata": {
    "colab_type": "text",
    "id": "mECUxIi85Cg9"
   },
   "source": [
    "# Import our modules and torch\n"
   ]
  },
  {
   "cell_type": "code",
   "execution_count": 0,
   "metadata": {
    "colab": {},
    "colab_type": "code",
    "id": "PK_PH-Wr0LAL"
   },
   "outputs": [],
   "source": [
    "import create_vocab\n",
    "import data_to_tensors\n",
    "import model_implementation\n",
    "from train_class import TrainingModule\n",
    "\n",
    "import torch\n",
    "import torch.nn as nn\n",
    "import torch.nn.functional as F\n",
    "import random \n",
    "\n",
    "from torch.utils.data import DataLoader"
   ]
  },
  {
   "cell_type": "markdown",
   "metadata": {
    "colab_type": "text",
    "id": "-BiElxB55n7d"
   },
   "source": [
    "# Because their data looks like this: we have 3 main dictionaries:\n",
    "* dictionary of all words in the sheets\n",
    "* dictionary of all paths(they are already hashed and converted to digits)\n",
    "* dictionary of targets(method names)\n"
   ]
  },
  {
   "cell_type": "code",
   "execution_count": 0,
   "metadata": {
    "colab": {},
    "colab_type": "code",
    "id": "3BunJzhfZ_jd"
   },
   "outputs": [],
   "source": [
    "dict_path = 'data/java-small/java-small.dict.c2v'\n",
    "word2idx, path2idx, target2idx, idx2target = create_vocab.create_vocab(dict_path)"
   ]
  },
  {
   "cell_type": "markdown",
   "metadata": {
    "colab_type": "text",
    "id": "OUJ5hZCS_DnF"
   },
   "source": [
    "* 1) data_iterator Returns 1024 batches each(the size can be changed when calling the function)\n",
    "* 2) from below you can see how the data is accessed, then 3 vectors are fed to the model(sorry for such names, I think you will understand from the arguments of the model that the output is)\n",
    "* 3) well, at the output we have code_vector and the second vector-probability distribution between all labels in target_vocab(dictionary of method names)"
   ]
  },
  {
   "cell_type": "code",
   "execution_count": 0,
   "metadata": {
    "colab": {},
    "colab_type": "code",
    "id": "WctOcjFevCYv"
   },
   "outputs": [],
   "source": [
    "path_for_train = 'data/java-small/java-small.train.c2v'\n",
    "train_dataset = data_to_tensors.TextDataset(path_for_train, \n",
    "                                                    word2idx, \n",
    "                                                    path2idx, \n",
    "                                                    target2idx)\n",
    "\n",
    "path_for_val = 'data/java-small/java-small.val.c2v'\n",
    "val_dataset = data_to_tensors.TextDataset(path_for_val, \n",
    "                                                    word2idx, \n",
    "                                                    path2idx, \n",
    "                                                    target2idx)\n",
    "\n",
    "path_for_test = 'data/java-small/java-small.test.c2v'\n",
    "test_dataset = data_to_tensors.TextDataset(path_for_test, \n",
    "                                                    word2idx, \n",
    "                                                    path2idx, \n",
    "                                                    target2idx)\n",
    "\n",
    "train_loader = DataLoader(train_dataset, batch_size=64, shuffle=True)\n",
    "val_loader = DataLoader(val_dataset, batch_size=64, shuffle=False)\n",
    "test_loader = DataLoader(test_dataset, batch_size=64, shuffle=False) "
   ]
  },
  {
   "cell_type": "markdown",
   "metadata": {
    "colab_type": "text",
    "id": "rQx0PLsMopZ1"
   },
   "source": [
    "# Train"
   ]
  },
  {
   "cell_type": "code",
   "execution_count": 0,
   "metadata": {
    "colab": {},
    "colab_type": "code",
    "id": "DGiy8Phzhk3w"
   },
   "outputs": [],
   "source": [
    "SEED = 1337\n",
    "random.seed(SEED)\n",
    "torch.manual_seed(SEED)\n",
    "torch.cuda.manual_seed(SEED)\n",
    "torch.backends.cudnn.deterministic = True"
   ]
  },
  {
   "cell_type": "code",
   "execution_count": 0,
   "metadata": {
    "colab": {},
    "colab_type": "code",
    "id": "UUd5Yv3fmrBQ"
   },
   "outputs": [],
   "source": [
    "model = model_implementation.code2vec_model(values_vocab_size = len(word2idx), \n",
    "                             paths_vocab_size = len(path2idx), \n",
    "                             labels_num = len(target2idx))"
   ]
  },
  {
   "cell_type": "code",
   "execution_count": 0,
   "metadata": {
    "colab": {},
    "colab_type": "code",
    "id": "CPVWRPDmmyUQ"
   },
   "outputs": [],
   "source": [
    "N_EPOCHS = 40\n",
    "LR = 3e-3\n",
    "\n",
    "optimizer = torch.optim.Adam(model.parameters(), lr=LR, weight_decay=0.8e-5)\n",
    "criterion = nn.CrossEntropyLoss()\n",
    "\n",
    "train_class = TrainingModule(model, optimizer, criterion, train_loader, val_loader, test_loader, N_EPOCHS, idx2target)\n",
    "list_train_loss, list_val_loss, list_train_precision, list_val_precision,list_train_recall, list_val_recall, list_train_f1, list_val_f1 = train_class.train()\n"
   ]
  },
  {
   "cell_type": "code",
   "execution_count": 0,
   "metadata": {
    "colab": {},
    "colab_type": "code",
    "id": "958J6pUHYOQZ"
   },
   "outputs": [],
   "source": []
  }
 ],
 "metadata": {
  "accelerator": "GPU",
  "colab": {
   "collapsed_sections": [],
   "name": "Copy of for_test.ipynb",
   "provenance": []
  },
  "kernelspec": {
   "display_name": "Python 3",
   "language": "python",
   "name": "python3"
  },
  "language_info": {
   "codemirror_mode": {
    "name": "ipython",
    "version": 3
   },
   "file_extension": ".py",
   "mimetype": "text/x-python",
   "name": "python",
   "nbconvert_exporter": "python",
   "pygments_lexer": "ipython3",
   "version": "3.7.3"
  }
 },
 "nbformat": 4,
 "nbformat_minor": 1
}
