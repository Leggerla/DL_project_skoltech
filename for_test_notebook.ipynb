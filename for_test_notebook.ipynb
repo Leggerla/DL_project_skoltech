{
  "nbformat": 4,
  "nbformat_minor": 0,
  "metadata": {
    "colab": {
      "name": "for_test.ipynb",
      "provenance": [],
      "collapsed_sections": []
    },
    "kernelspec": {
      "name": "python3",
      "display_name": "Python 3"
    },
    "accelerator": "GPU"
  },
  "cells": [
    {
      "cell_type": "code",
      "metadata": {
        "id": "Ms1tmZcz41iO",
        "colab_type": "code",
        "outputId": "7d28a998-44e4-4543-efc4-050b6e658b9f",
        "colab": {
          "base_uri": "https://localhost:8080/",
          "height": 255
        }
      },
      "source": [
        "# memory footprint support libraries/code\n",
        "!ln -sf /opt/bin/nvidia-smi /usr/bin/nvidia-smi\n",
        "!pip install gputil\n",
        "!pip install psutil\n",
        "!pip install humanize\n",
        "import psutil\n",
        "import humanize\n",
        "import os\n",
        "import GPUtil as GPU\n",
        "GPUs = GPU.getGPUs()\n",
        "# XXX: only one GPU on Colab and isn’t guaranteed\n",
        "gpu = GPUs[0]\n",
        "def printm():\n",
        " process = psutil.Process(os.getpid())\n",
        " print(\"Gen RAM Free: \" + humanize.naturalsize( psutil.virtual_memory().available ), \" | Proc size: \" + humanize.naturalsize( process.memory_info().rss))\n",
        " print(\"GPU RAM Free: {0:.0f}MB | Used: {1:.0f}MB | Util {2:3.0f}% | Total {3:.0f}MB\".format(gpu.memoryFree, gpu.memoryUsed, gpu.memoryUtil*100, gpu.memoryTotal))\n",
        "printm() "
      ],
      "execution_count": 1,
      "outputs": [
        {
          "output_type": "stream",
          "text": [
            "Collecting gputil\n",
            "  Downloading https://files.pythonhosted.org/packages/ed/0e/5c61eedde9f6c87713e89d794f01e378cfd9565847d4576fa627d758c554/GPUtil-1.4.0.tar.gz\n",
            "Building wheels for collected packages: gputil\n",
            "  Building wheel for gputil (setup.py) ... \u001b[?25l\u001b[?25hdone\n",
            "  Created wheel for gputil: filename=GPUtil-1.4.0-cp36-none-any.whl size=7413 sha256=7925da01c6d2a5c3a4a4bbf0958d67a1720ab6cebb290a401e60985aff31fe45\n",
            "  Stored in directory: /root/.cache/pip/wheels/3d/77/07/80562de4bb0786e5ea186911a2c831fdd0018bda69beab71fd\n",
            "Successfully built gputil\n",
            "Installing collected packages: gputil\n",
            "Successfully installed gputil-1.4.0\n",
            "Requirement already satisfied: psutil in /usr/local/lib/python3.6/dist-packages (5.4.8)\n",
            "Requirement already satisfied: humanize in /usr/local/lib/python3.6/dist-packages (0.5.1)\n",
            "Gen RAM Free: 12.7 GB  | Proc size: 159.7 MB\n",
            "GPU RAM Free: 15079MB | Used: 0MB | Util   0% | Total 15079MB\n"
          ],
          "name": "stdout"
        }
      ]
    },
    {
      "cell_type": "markdown",
      "metadata": {
        "id": "N4QMIWS547iw",
        "colab_type": "text"
      },
      "source": [
        "# Load from the github"
      ]
    },
    {
      "cell_type": "code",
      "metadata": {
        "id": "kC1kxjE9ybjl",
        "colab_type": "code",
        "outputId": "782a0b95-5480-4c1c-a20e-04a187543442",
        "colab": {
          "base_uri": "https://localhost:8080/",
          "height": 134
        }
      },
      "source": [
        "!git clone --branch edited https://github.com/Vitaly-Protasov/DL_project_skoltech"
      ],
      "execution_count": 2,
      "outputs": [
        {
          "output_type": "stream",
          "text": [
            "Cloning into 'DL_project_skoltech'...\n",
            "remote: Enumerating objects: 135, done.\u001b[K\n",
            "remote: Counting objects: 100% (135/135), done.\u001b[K\n",
            "remote: Compressing objects: 100% (113/113), done.\u001b[K\n",
            "remote: Total 332 (delta 77), reused 52 (delta 22), pack-reused 197\u001b[K\n",
            "Receiving objects: 100% (332/332), 77.23 KiB | 192.00 KiB/s, done.\n",
            "Resolving deltas: 100% (189/189), done.\n"
          ],
          "name": "stdout"
        }
      ]
    },
    {
      "cell_type": "code",
      "metadata": {
        "id": "EhzZ1XIiofJ7",
        "colab_type": "code",
        "outputId": "c6d4f571-9cda-4acd-bdc2-e6b9447842c0",
        "colab": {
          "base_uri": "https://localhost:8080/",
          "height": 34
        }
      },
      "source": [
        "cd DL_project_skoltech/"
      ],
      "execution_count": 3,
      "outputs": [
        {
          "output_type": "stream",
          "text": [
            "/content/DL_project_skoltech\n"
          ],
          "name": "stdout"
        }
      ]
    },
    {
      "cell_type": "markdown",
      "metadata": {
        "id": "Djjc-tjuMhhu",
        "colab_type": "text"
      },
      "source": [
        "# Download data"
      ]
    },
    {
      "cell_type": "code",
      "metadata": {
        "id": "Lp4neYWhMUHQ",
        "colab_type": "code",
        "outputId": "3230ec2d-e794-415f-962c-60fa378d9c55",
        "colab": {
          "base_uri": "https://localhost:8080/",
          "height": 286
        }
      },
      "source": [
        "!bash download_data.sh"
      ],
      "execution_count": 4,
      "outputs": [
        {
          "output_type": "stream",
          "text": [
            "--2020-06-03 21:03:59--  https://s3.amazonaws.com/code2vec/data/java-small_data.tar.gz\n",
            "Resolving s3.amazonaws.com (s3.amazonaws.com)... 52.216.94.181\n",
            "Connecting to s3.amazonaws.com (s3.amazonaws.com)|52.216.94.181|:443... connected.\n",
            "HTTP request sent, awaiting response... 200 OK\n",
            "Length: 382731969 (365M) [application/x-tar]\n",
            "Saving to: ‘java-small_data.tar.gz’\n",
            "\n",
            "java-small_data.tar 100%[===================>] 365.00M  13.5MB/s    in 28s     \n",
            "\n",
            "2020-06-03 21:04:28 (13.1 MB/s) - ‘java-small_data.tar.gz’ saved [382731969/382731969]\n",
            "\n",
            "java-small/\n",
            "java-small/java-small.dict.c2v\n",
            "java-small/java-small.train.c2v\n",
            "java-small/java-small.val.c2v\n",
            "java-small/java-small.test.c2v\n"
          ],
          "name": "stdout"
        }
      ]
    },
    {
      "cell_type": "markdown",
      "metadata": {
        "id": "mECUxIi85Cg9",
        "colab_type": "text"
      },
      "source": [
        "# Import our modules and torch\n"
      ]
    },
    {
      "cell_type": "code",
      "metadata": {
        "id": "PK_PH-Wr0LAL",
        "colab_type": "code",
        "colab": {}
      },
      "source": [
        "import create_vocab\n",
        "import data_to_tensors\n",
        "import model_implementation\n",
        "from train import *\n",
        "\n",
        "import torch\n",
        "import torch.nn as nn\n",
        "import torch.nn.functional as F\n",
        "import random \n",
        "\n",
        "from torch.utils.data import DataLoader"
      ],
      "execution_count": 0,
      "outputs": []
    },
    {
      "cell_type": "markdown",
      "metadata": {
        "id": "-BiElxB55n7d",
        "colab_type": "text"
      },
      "source": [
        "# Because their data looks like this: we have 3 main dictionaries:\n",
        "* dictionary of all words in the sheets\n",
        "* dictionary of all paths(they are already hashed and converted to digits)\n",
        "* dictionary of targets(method names)\n"
      ]
    },
    {
      "cell_type": "code",
      "metadata": {
        "id": "3BunJzhfZ_jd",
        "colab_type": "code",
        "colab": {}
      },
      "source": [
        "dict_path = 'data/java-small/java-small.dict.c2v'\n",
        "word2idx, path2idx, target2idx, idx2target = create_vocab.create_vocab(dict_path)"
      ],
      "execution_count": 0,
      "outputs": []
    },
    {
      "cell_type": "markdown",
      "metadata": {
        "id": "OUJ5hZCS_DnF",
        "colab_type": "text"
      },
      "source": [
        "* 1) data_iterator Returns 100 batches each(the size can be changed when calling the function)\n",
        "* 2) from below you can see how the data is accessed, then 3 vectors are fed to the model(sorry for such names, I think you will understand from the arguments of the model that the output is)\n",
        "* 3) well, at the output we have code_vector and the second vector-probability distribution between all labels in target_vocab(dictionary of method names)"
      ]
    },
    {
      "cell_type": "code",
      "metadata": {
        "id": "WctOcjFevCYv",
        "colab_type": "code",
        "colab": {}
      },
      "source": [
        "path_for_train = 'data/java-small/java-small.train.c2v'\n",
        "train_dataset = data_to_tensors.TextDataset(path_for_train, \n",
        "                                                    word2idx, \n",
        "                                                    path2idx, \n",
        "                                                    target2idx)\n",
        "\n",
        "path_for_val = 'data/java-small/java-small.val.c2v'\n",
        "val_dataset = data_to_tensors.TextDataset(path_for_val, \n",
        "                                                    word2idx, \n",
        "                                                    path2idx, \n",
        "                                                    target2idx)\n",
        "\n",
        "path_for_test = 'data/java-small/java-small.test.c2v'\n",
        "test_dataset = data_to_tensors.TextDataset(path_for_test, \n",
        "                                                    word2idx, \n",
        "                                                    path2idx, \n",
        "                                                    target2idx)\n",
        "\n",
        "train_loader = DataLoader(train_dataset, batch_size=1024, shuffle=True)\n",
        "val_loader = DataLoader(val_dataset, batch_size=512, shuffle=False)\n",
        "test_loader = DataLoader(test_dataset, batch_size=512, shuffle=False) "
      ],
      "execution_count": 0,
      "outputs": []
    },
    {
      "cell_type": "markdown",
      "metadata": {
        "id": "rQx0PLsMopZ1",
        "colab_type": "text"
      },
      "source": [
        "# Train"
      ]
    },
    {
      "cell_type": "code",
      "metadata": {
        "id": "DGiy8Phzhk3w",
        "colab_type": "code",
        "colab": {}
      },
      "source": [
        "SEED = 1337\n",
        "random.seed(SEED)\n",
        "torch.manual_seed(SEED)\n",
        "torch.cuda.manual_seed(SEED)\n",
        "torch.backends.cudnn.deterministic = True"
      ],
      "execution_count": 0,
      "outputs": []
    },
    {
      "cell_type": "code",
      "metadata": {
        "id": "UUd5Yv3fmrBQ",
        "colab_type": "code",
        "colab": {}
      },
      "source": [
        "model = model_implementation.code2vec_model(values_vocab_size = len(word2idx), \n",
        "                             paths_vocab_size = len(path2idx), \n",
        "                             labels_num = len(target2idx))"
      ],
      "execution_count": 0,
      "outputs": []
    },
    {
      "cell_type": "code",
      "metadata": {
        "id": "CPVWRPDmmyUQ",
        "colab_type": "code",
        "outputId": "a514ebc8-c53d-4356-db04-13f284be6223",
        "colab": {
          "base_uri": "https://localhost:8080/",
          "height": 773
        }
      },
      "source": [
        "N_EPOCHS = 40\n",
        "LR = 3e-3\n",
        "\n",
        "optimizer = torch.optim.Adam(model.parameters(), lr=LR, weight_decay=1.2e-5)\n",
        "criterion = nn.CrossEntropyLoss()\n",
        "\n",
        "early_stop = False # ставите True и тогда будет обучение ток для одного батча\n",
        "list_train_loss, list_val_loss, list_train_precision, list_val_precision,list_train_recall, list_val_recall, list_train_f1, list_val_f1 = train(model = model, optimizer = optimizer,\n",
        "                                                                                                                                                criterion = criterion, train_loader = train_loader,\n",
        "                                                                                                                                                val_loader = val_loader, test_loader = test_loader,\n",
        "                                                                                                                                                epochs = N_EPOCHS, idx2target_vocab = idx2target, \n",
        "                                                                                                                                                scheduler=None, checkpoint=True, early_stop = early_stop)\n"
      ],
      "execution_count": 0,
      "outputs": [
        {
          "output_type": "stream",
          "text": [
            "Epoch 1: train loss - 9.40172, validation loss - 11.09501\n",
            "\t Validation: precision - 0.06527, recall - 0.10652, f1_score - 0.08094\n",
            "\t Test: precision - 0.0768, recall - 0.11506, f1_score - 0.09212\n",
            "Elapsed time: 288.962\n",
            "----------------------------------------------------------------------\n",
            "Epoch 2: train loss - 7.82712, validation loss - 10.95321\n",
            "\t Validation: precision - 0.09305, recall - 0.13375, f1_score - 0.10975\n",
            "\t Test: precision - 0.1032, recall - 0.15269, f1_score - 0.12316\n",
            "Elapsed time: 286.182\n",
            "----------------------------------------------------------------------\n",
            "Epoch 3: train loss - 6.85154, validation loss - 10.85459\n",
            "\t Validation: precision - 0.10101, recall - 0.14914, f1_score - 0.12044\n",
            "\t Test: precision - 0.11474, recall - 0.16783, f1_score - 0.1363\n",
            "Elapsed time: 285.944\n",
            "----------------------------------------------------------------------\n",
            "Epoch 4: train loss - 6.12865, validation loss - 10.87316\n",
            "\t Validation: precision - 0.12971, recall - 0.18171, f1_score - 0.15137\n",
            "\t Test: precision - 0.12854, recall - 0.18254, f1_score - 0.15085\n",
            "Elapsed time: 286.290\n",
            "----------------------------------------------------------------------\n",
            "Epoch 5: train loss - 5.61862, validation loss - 10.75993\n",
            "\t Validation: precision - 0.12862, recall - 0.18984, f1_score - 0.15335\n",
            "\t Test: precision - 0.1313, recall - 0.18855, f1_score - 0.1548\n",
            "Elapsed time: 285.636\n",
            "----------------------------------------------------------------------\n",
            "Epoch 6: train loss - 5.26687, validation loss - 10.69659\n",
            "\t Validation: precision - 0.14595, recall - 0.21278, f1_score - 0.17314\n",
            "\t Test: precision - 0.1283, recall - 0.1891, f1_score - 0.15288\n",
            "Elapsed time: 286.569\n",
            "----------------------------------------------------------------------\n",
            "Epoch 7: train loss - 5.0024, validation loss - 10.66688\n",
            "\t Validation: precision - 0.14271, recall - 0.20881, f1_score - 0.16955\n",
            "\t Test: precision - 0.12557, recall - 0.18831, f1_score - 0.15067\n",
            "Elapsed time: 286.012\n",
            "----------------------------------------------------------------------\n",
            "Epoch 8: train loss - 4.79964, validation loss - 10.6944\n",
            "\t Validation: precision - 0.14244, recall - 0.21235, f1_score - 0.1705\n",
            "\t Test: precision - 0.12676, recall - 0.19536, f1_score - 0.15375\n",
            "Elapsed time: 284.862\n",
            "----------------------------------------------------------------------\n",
            "Epoch 9: train loss - 4.63581, validation loss - 10.67332\n",
            "\t Validation: precision - 0.14776, recall - 0.21792, f1_score - 0.17611\n",
            "\t Test: precision - 0.12627, recall - 0.18893, f1_score - 0.15137\n",
            "Elapsed time: 287.587\n",
            "----------------------------------------------------------------------\n"
          ],
          "name": "stdout"
        }
      ]
    },
    {
      "cell_type": "code",
      "metadata": {
        "id": "xO2dQ6SfHkXb",
        "colab_type": "code",
        "colab": {}
      },
      "source": [
        ""
      ],
      "execution_count": 0,
      "outputs": []
    }
  ]
}