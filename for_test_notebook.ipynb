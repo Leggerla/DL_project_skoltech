{
 "cells": [
  {
   "cell_type": "markdown",
   "metadata": {
    "colab_type": "text",
    "id": "7qn8B7szM0I0"
   },
   "source": [
    "# Just info about your GPU and it's memory if you use collab"
   ]
  },
  {
   "cell_type": "code",
   "execution_count": 1,
   "metadata": {
    "colab": {
     "base_uri": "https://localhost:8080/",
     "height": 50
    },
    "colab_type": "code",
    "id": "Ms1tmZcz41iO",
    "outputId": "c93d300c-8ea2-40b9-91b7-ed632e310904"
   },
   "outputs": [
    {
     "name": "stdout",
     "output_type": "stream",
     "text": [
      "Gen RAM Free: 12.8 GB  | Proc size: 160.1 MB\n",
      "GPU RAM Free: 11441MB | Used: 0MB | Util   0% | Total 11441MB\n"
     ]
    }
   ],
   "source": [
    "# memory footprint support libraries/code\n",
    "!ln -sf /opt/bin/nvidia-smi /usr/bin/nvidia-smi\n",
    "!pip install gputil > /dev/null\n",
    "!pip install psutil > /dev/null\n",
    "!pip install humanize > /dev/null\n",
    "import psutil\n",
    "import humanize\n",
    "import os\n",
    "import GPUtil as GPU\n",
    "GPUs = GPU.getGPUs()\n",
    "# XXX: only one GPU on Colab and isn’t guara|nteed\n",
    "gpu = GPUs[0]\n",
    "def printm():\n",
    " process = psutil.Process(os.getpid())\n",
    " print(\"Gen RAM Free: \" + humanize.naturalsize( psutil.virtual_memory().available ), \" | Proc size: \" + humanize.naturalsize( process.memory_info().rss))\n",
    " print(\"GPU RAM Free: {0:.0f}MB | Used: {1:.0f}MB | Util {2:3.0f}% | Total {3:.0f}MB\".format(gpu.memoryFree, gpu.memoryUsed, gpu.memoryUtil*100, gpu.memoryTotal))\n",
    "printm() "
   ]
  },
  {
   "cell_type": "markdown",
   "metadata": {
    "colab_type": "text",
    "id": "N4QMIWS547iw"
   },
   "source": [
    "# Load our github repo"
   ]
  },
  {
   "cell_type": "code",
   "execution_count": 2,
   "metadata": {
    "colab": {
     "base_uri": "https://localhost:8080/",
     "height": 134
    },
    "colab_type": "code",
    "id": "kC1kxjE9ybjl",
    "outputId": "3dc7db71-7ce0-433c-ee3e-36a0683db8d3"
   },
   "outputs": [
    {
     "name": "stdout",
     "output_type": "stream",
     "text": [
      "Cloning into 'DL_project_skoltech'...\n",
      "remote: Enumerating objects: 181, done.\u001b[K\n",
      "remote: Counting objects: 100% (181/181), done.\u001b[K\n",
      "remote: Compressing objects: 100% (157/157), done.\u001b[K\n",
      "remote: Total 552 (delta 115), reused 49 (delta 24), pack-reused 371\u001b[K\n",
      "Receiving objects: 100% (552/552), 128.11 KiB | 363.00 KiB/s, done.\n",
      "Resolving deltas: 100% (338/338), done.\n"
     ]
    }
   ],
   "source": [
    "!git clone https://github.com/Vitaly-Protasov/DL_project_skoltech"
   ]
  },
  {
   "cell_type": "code",
   "execution_count": 3,
   "metadata": {
    "colab": {
     "base_uri": "https://localhost:8080/",
     "height": 34
    },
    "colab_type": "code",
    "id": "EhzZ1XIiofJ7",
    "outputId": "9f4d8c59-0adf-4e99-fd16-9d753088ed0a"
   },
   "outputs": [
    {
     "name": "stdout",
     "output_type": "stream",
     "text": [
      "/content/DL_project_skoltech\n"
     ]
    }
   ],
   "source": [
    "cd DL_project_skoltech/"
   ]
  },
  {
   "cell_type": "markdown",
   "metadata": {
    "colab_type": "text",
    "id": "Djjc-tjuMhhu"
   },
   "source": [
    "# Download data script"
   ]
  },
  {
   "cell_type": "code",
   "execution_count": 4,
   "metadata": {
    "colab": {
     "base_uri": "https://localhost:8080/",
     "height": 286
    },
    "colab_type": "code",
    "id": "Lp4neYWhMUHQ",
    "outputId": "448801b4-7f11-4474-bcdd-b5015bf5132c"
   },
   "outputs": [
    {
     "name": "stdout",
     "output_type": "stream",
     "text": [
      "--2020-06-04 16:08:47--  https://s3.amazonaws.com/code2vec/data/java-small_data.tar.gz\n",
      "Resolving s3.amazonaws.com (s3.amazonaws.com)... 52.216.138.117\n",
      "Connecting to s3.amazonaws.com (s3.amazonaws.com)|52.216.138.117|:443... connected.\n",
      "HTTP request sent, awaiting response... 200 OK\n",
      "Length: 382731969 (365M) [application/x-tar]\n",
      "Saving to: ‘java-small_data.tar.gz’\n",
      "\n",
      "java-small_data.tar 100%[===================>] 365.00M  15.9MB/s    in 24s     \n",
      "\n",
      "2020-06-04 16:09:12 (15.0 MB/s) - ‘java-small_data.tar.gz’ saved [382731969/382731969]\n",
      "\n",
      "java-small/\n",
      "java-small/java-small.dict.c2v\n",
      "java-small/java-small.train.c2v\n",
      "java-small/java-small.val.c2v\n",
      "java-small/java-small.test.c2v\n"
     ]
    }
   ],
   "source": [
    "!bash download_data.sh"
   ]
  },
  {
   "cell_type": "code",
   "execution_count": null,
   "metadata": {},
   "outputs": [],
   "source": [
    "! pip install transformers > /dev/null"
   ]
  },
  {
   "cell_type": "markdown",
   "metadata": {
    "colab_type": "text",
    "id": "mECUxIi85Cg9"
   },
   "source": [
    "# Import our modules and torch\n"
   ]
  },
  {
   "cell_type": "code",
   "execution_count": 0,
   "metadata": {
    "colab": {},
    "colab_type": "code",
    "id": "PK_PH-Wr0LAL"
   },
   "outputs": [],
   "source": [
    "import create_vocab\n",
    "import data_to_tensors\n",
    "import model_implementation\n",
    "from train_class import TrainingModule\n",
    "\n",
    "import torch\n",
    "import torch.nn as nn\n",
    "import torch.nn.functional as F\n",
    "import random \n",
    "\n",
    "from torch.utils.data import DataLoader"
   ]
  },
  {
   "cell_type": "markdown",
   "metadata": {
    "colab_type": "text",
    "id": "PR1ESa_BF__Q"
   },
   "source": [
    "# Install transformer lib"
   ]
  },
  {
   "cell_type": "code",
   "execution_count": 0,
   "metadata": {
    "colab": {},
    "colab_type": "code",
    "id": "kw0YVQkAFHTa"
   },
   "outputs": [],
   "source": [
    "! pip install transformers > /dev/null"
   ]
  },
  {
   "cell_type": "markdown",
   "metadata": {
    "colab_type": "text",
    "id": "-BiElxB55n7d"
   },
   "source": [
    "# Because their data looks like this: we have 3 main dictionaries:\n",
    "* dictionary of all words in the sheets\n",
    "* dictionary of all paths(they are already hashed and converted to digits)\n",
    "* dictionary of targets(method names)\n"
   ]
  },
  {
   "cell_type": "code",
   "execution_count": 0,
   "metadata": {
    "colab": {},
    "colab_type": "code",
    "id": "3BunJzhfZ_jd"
   },
   "outputs": [],
   "source": [
    "dict_path = 'data/java-small/java-small.dict.c2v'\n",
    "word2idx, path2idx, target2idx, idx2target = create_vocab.create_vocab(dict_path)"
   ]
  },
  {
   "cell_type": "markdown",
   "metadata": {
    "colab_type": "text",
    "id": "OUJ5hZCS_DnF"
   },
   "source": [
    "* 1) data_iterator Returns 1024 batches each(the size can be changed when calling the function)\n",
    "* 2) from below you can see how the data is accessed, then 3 vectors are fed to the model(sorry for such names, I think you will understand from the arguments of the model that the output is)\n",
    "* 3) well, at the output we have code_vector and the second vector-probability distribution between all labels in target_vocab(dictionary of method names)"
   ]
  },
  {
   "cell_type": "code",
   "execution_count": 0,
   "metadata": {
    "colab": {},
    "colab_type": "code",
    "id": "WctOcjFevCYv"
   },
   "outputs": [],
   "source": [
    "path_for_train = 'data/java-small/java-small.train.c2v'\n",
    "train_dataset = data_to_tensors.TextDataset(path_for_train, \n",
    "                                                    word2idx, \n",
    "                                                    path2idx, \n",
    "                                                    target2idx)\n",
    "\n",
    "path_for_val = 'data/java-small/java-small.val.c2v'\n",
    "val_dataset = data_to_tensors.TextDataset(path_for_val, \n",
    "                                                    word2idx, \n",
    "                                                    path2idx, \n",
    "                                                    target2idx)\n",
    "\n",
    "path_for_test = 'data/java-small/java-small.test.c2v'\n",
    "    test_dataset = data_to_tensors.TextDataset(path_for_test, \n",
    "                                                        word2idx, \n",
    "                                                        path2idx, \n",
    "                                                        target2idx)\n",
    "\n",
    "train_loader = DataLoader(train_dataset, batch_size=512, shuffle=True)\n",
    "val_loader = DataLoader(val_dataset, batch_size=512, shuffle=False)\n",
    "test_loader = DataLoader(test_dataset, batch_size=512, shuffle=False)"
   ]
  },
  {
   "cell_type": "markdown",
   "metadata": {
    "colab_type": "text",
    "id": "rQx0PLsMopZ1"
   },
   "source": [
    "# Train"
   ]
  },
  {
   "cell_type": "code",
   "execution_count": 0,
   "metadata": {
    "colab": {},
    "colab_type": "code",
    "id": "DGiy8Phzhk3w"
   },
   "outputs": [],
   "source": [
    "SEED = 1337\n",
    "random.seed(SEED)\n",
    "torch.manual_seed(SEED)\n",
    "torch.cuda.manual_seed(SEED)\n",
    "torch.backends.cudnn.deterministic = True"
   ]
  },
  {
   "cell_type": "markdown",
   "metadata": {
    "colab_type": "text",
    "id": "vHHx7d61Cmgt"
   },
   "source": [
    "# Model\n",
    "\n",
    "* if you want to use the original model: bert = False\n",
    "* if you want to use Bert model: bert = True\n"
   ]
  },
  {
   "cell_type": "code",
   "execution_count": 0,
   "metadata": {
    "colab": {},
    "colab_type": "code",
    "id": "e8jnWVAnDEz1"
   },
   "outputs": [],
   "source": [
    "# In case of bert\n",
    "bert = True\n",
    "bert_params = dict()\n",
    "bert_params['num_attention_heads'] = 1\n",
    "bert_params['num_transformer_layers'] = 1\n",
    "bert_params['intermediate_size'] = 32\n",
    "\n",
    "if bert:\n",
    "    model = model_implementation.code2vec_model(values_vocab_size = len(word2idx), \n",
    "                             paths_vocab_size = len(path2idx), \n",
    "                             labels_num = len(target2idx), bert=bert, bert_params=bert_params)"
   ]
  },
  {
   "cell_type": "code",
   "execution_count": 0,
   "metadata": {
    "colab": {},
    "colab_type": "code",
    "id": "UUd5Yv3fmrBQ"
   },
   "outputs": [],
   "source": [
    "# In case if not bert\n",
    "bert = False\n",
    "if not bert:\n",
    "    model = model_implementation.code2vec_model(values_vocab_size = len(word2idx), \n",
    "                                 paths_vocab_size = len(path2idx), \n",
    "                                 labels_num = len(target2idx))"
   ]
  },
  {
   "cell_type": "code",
   "execution_count": 0,
   "metadata": {
    "colab": {
     "base_uri": "https://localhost:8080/",
     "height": 84
    },
    "colab_type": "code",
    "id": "CPVWRPDmmyUQ",
    "outputId": "a2fdd942-1512-4ba4-e99e-288b7eae342a"
   },
   "outputs": [
    {
     "name": "stdout",
     "output_type": "stream",
     "text": [
      "Epoch 1: train loss - 8.7996, validation loss - 10.86591\n",
      "\t Validation: precision - 0.09438, recall - 0.12921, f1_score - 0.10908\n",
      "Elapsed time: 751.777\n",
      "----------------------------------------------------------------------\n"
     ]
    }
   ],
   "source": [
    "N_EPOCHS = 20\n",
    "LR = 3e-3\n",
    "WD = 0.8e-5\n",
    "\n",
    "optimizer = torch.optim.Adam(model.parameters(), lr=LR, weight_decay=WD)\n",
    "criterion = nn.CrossEntropyLoss()\n",
    "\n",
    "train_class = TrainingModule(model, optimizer, criterion, train_loader, val_loader, test_loader, N_EPOCHS, idx2target)\n",
    "list_train_loss, list_val_loss, list_train_precision, list_val_precision,list_train_recall, list_val_recall, list_train_f1, list_val_f1 = train_class.train()\n"
   ]
  }
 ],
 "metadata": {
  "accelerator": "GPU",
  "colab": {
   "collapsed_sections": [],
   "name": "for_test_notebook.ipynb",
   "provenance": [],
   "toc_visible": true
  },
  "kernelspec": {
   "display_name": "Python 3",
   "language": "python",
   "name": "python3"
  },
  "language_info": {
   "codemirror_mode": {
    "name": "ipython",
    "version": 3
   },
   "file_extension": ".py",
   "mimetype": "text/x-python",
   "name": "python",
   "nbconvert_exporter": "python",
   "pygments_lexer": "ipython3",
   "version": "3.7.3"
  }
 },
 "nbformat": 4,
 "nbformat_minor": 1
}
